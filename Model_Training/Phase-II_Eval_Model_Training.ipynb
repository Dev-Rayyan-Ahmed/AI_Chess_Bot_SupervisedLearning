{
 "cells": [
  {
   "cell_type": "markdown",
   "id": "e12042b2",
   "metadata": {},
   "source": [
    "# Phase II"
   ]
  },
  {
   "cell_type": "markdown",
   "id": "dfac4264",
   "metadata": {},
   "source": [
    "### Importing Data"
   ]
  },
  {
   "cell_type": "code",
   "execution_count": null,
   "id": "baba0f75",
   "metadata": {},
   "outputs": [],
   "source": [
    "%pip install --upgrade pip"
   ]
  },
  {
   "cell_type": "code",
   "execution_count": null,
   "id": "70633332",
   "metadata": {},
   "outputs": [],
   "source": [
    "%pip install matplotlib datasets chess numpy\n",
    "%pip install --upgrade tensorflow\n"
   ]
  },
  {
   "cell_type": "code",
   "execution_count": null,
   "id": "a7da66aa",
   "metadata": {},
   "outputs": [],
   "source": [
    "from datasets import load_dataset\n",
    "\n",
    "# Streaming DataSet\n",
    "full_dataset = load_dataset(\"Lichess/chess-position-evaluations\", split=\"train\", streaming=True)\n",
    "train_dataset = full_dataset.shuffle(seed=42, buffer_size=10_000).take(9_000_000)\n",
    "val_dataset = full_dataset.skip(9_000_000).take(1_000_000)\n",
    "\n",
    "# see few values:\n",
    "for i, sample in enumerate(train_dataset):\n",
    "    print(sample)\n",
    "    if i == 2:\n",
    "        break"
   ]
  },
  {
   "cell_type": "markdown",
   "id": "775f65bb",
   "metadata": {},
   "source": [
    "### Utility Functions"
   ]
  },
  {
   "cell_type": "code",
   "execution_count": null,
   "id": "eaac438b",
   "metadata": {},
   "outputs": [],
   "source": [
    "import chess\n",
    "import numpy as np\n",
    "\n",
    "def board_to_matrix(board):\n",
    "    matrix = np.zeros((8, 8, 12), dtype=np.float32)\n",
    "    piece_map = board.piece_map()\n",
    "\n",
    "    for square, piece in piece_map.items():\n",
    "        row, col = divmod(square, 8)\n",
    "        piece_type = piece.piece_type - 1  # 0-indexed\n",
    "        color_offset = 0 if piece.color == chess.WHITE else 6\n",
    "        channel = piece_type + color_offset\n",
    "        matrix[row][col][channel] = 1\n",
    "\n",
    "    return matrix\n"
   ]
  },
  {
   "cell_type": "code",
   "execution_count": null,
   "id": "e265fd20",
   "metadata": {},
   "outputs": [],
   "source": [
    "def evaluation_to_score(cp, mate):\n",
    "    if mate is not None:\n",
    "        return 20.0 if mate > 0 else -20.0\n",
    "    return cp / 100.0"
   ]
  },
  {
   "cell_type": "markdown",
   "id": "f8b13821",
   "metadata": {},
   "source": [
    "### Generation DataSet for our Model to Train on"
   ]
  },
  {
   "cell_type": "code",
   "execution_count": null,
   "id": "ea3de30d",
   "metadata": {},
   "outputs": [],
   "source": [
    "def data_generator(dataset, batch_size=64):\n",
    "    batch_x, batch_y = [], []\n",
    "    for sample in dataset:\n",
    "        try:    \n",
    "            fen = sample[\"fen\"]\n",
    "            board = chess.Board(fen)\n",
    "            matrix = board_to_matrix(board)\n",
    "            score = evaluation_to_score(sample['cp'],sample['mate'])\n",
    "\n",
    "            batch_x.append(matrix)\n",
    "            batch_y.append(score/1000) # Normalizing Score Range\n",
    "\n",
    "            if len(batch_x) == batch_size:\n",
    "                yield np.array(batch_x), np.array(batch_y)\n",
    "                batch_x, batch_y = [], []\n",
    "            \n",
    "        except Exception as e:\n",
    "            print(\"Error:\", e)\n",
    "            continue"
   ]
  },
  {
   "cell_type": "markdown",
   "id": "31649f57",
   "metadata": {},
   "source": [
    "### Value Detection Model Architech and Training"
   ]
  },
  {
   "cell_type": "markdown",
   "id": "e6aa9f9f",
   "metadata": {},
   "source": [
    "🧠 What happens when model.fit() runs?\n",
    "Here's the full flow:\n",
    "\n",
    "1. model.fit(data_generator(), steps_per_epoch=train_steps) starts training\n",
    "\n",
    "2. It asks data_generator() for one batch (64 positions)\n",
    "\n",
    "3. data_generator() collects 64 samples, processes them, and yields a batch\n",
    "\n",
    "4. The model:\n",
    "\n",
    "    Gets the batch\n",
    "\n",
    "    Runs a forward pass to predict scores\n",
    "\n",
    "    Computes loss (mean squared error)\n",
    "\n",
    "    Updates model weights via backpropagation\n",
    "\n",
    "Steps 2–4 repeat train_steps times (e.g. 1000 times)\n",
    "\n",
    "At the end, the model is trained and saved.\n",
    "\n",
    "Basically,\n",
    "My code picks one row at a time from the dataset, processes it into board matrix + score, and groups it into batches of 64. When a batch is ready, it’s passed into the model. The model trains on (TrainSteps) such batches. No need to download the entire dataset, it streams through all files automatically."
   ]
  },
  {
   "cell_type": "code",
   "execution_count": null,
   "id": "33706a59",
   "metadata": {},
   "outputs": [],
   "source": [
    "import tensorflow as tf\n",
    "\n",
    "model = tf.keras.Sequential([\n",
    "    tf.keras.layers.Input(shape=(8, 8, 12)),\n",
    "    tf.keras.layers.Conv2D(64, (3, 3), activation='linear', padding='same'),\n",
    "    tf.keras.layers.Conv2D(128, (3, 3), activation='linear', padding='same'),\n",
    "    tf.keras.layers.Flatten(),\n",
    "    tf.keras.layers.Dense(256, activation='linear'),\n",
    "    tf.keras.layers.Dense(1, activation='linear')\n",
    "])\n",
    "\n",
    "model.compile(optimizer=tf.keras.optimizers.Adam(1e-3),\n",
    "              loss=tf.keras.losses.mse())\n",
    "\n",
    "train_steps = 40000\n",
    "val_steps = 500\n",
    "history = model.fit(\n",
    "    data_generator(train_dataset),\n",
    "    steps_per_epoch=train_steps,\n",
    "    validation_data=data_generator(val_dataset),\n",
    "    validation_steps=val_steps,\n",
    "    epochs = 10, \n",
    "    verbose=1\n",
    ")\n"
   ]
  },
  {
   "cell_type": "code",
   "execution_count": null,
   "id": "8466ba66",
   "metadata": {},
   "outputs": [],
   "source": [
    "import matplotlib.pyplot as plt\n",
    "\n",
    "print(history.history.keys())\n",
    "\n",
    "# Plot training vs validation loss\n",
    "plt.plot(history.history['loss'], label='Training Loss')\n",
    "plt.plot(history.history['val_loss'], label='Validation Loss')\n",
    "plt.xlabel('Epochs')\n",
    "plt.ylabel('Loss')\n",
    "plt.title('Training vs Validation Loss')\n",
    "plt.legend()\n",
    "plt.show()"
   ]
  },
  {
   "cell_type": "code",
   "execution_count": null,
   "id": "6a3b9ee9",
   "metadata": {},
   "outputs": [],
   "source": [
    "# Saving the model\n",
    "model.save(f\"chess_eval_model_on_{train_steps}_Epochs{10}Steps.keras\")\n"
   ]
  },
  {
   "cell_type": "code",
   "execution_count": null,
   "id": "1c441f75",
   "metadata": {},
   "outputs": [],
   "source": []
  }
 ],
 "metadata": {
  "kernelspec": {
   "display_name": "Python 3",
   "language": "python",
   "name": "python3"
  },
  "language_info": {
   "codemirror_mode": {
    "name": "ipython",
    "version": 3
   },
   "file_extension": ".py",
   "mimetype": "text/x-python",
   "name": "python",
   "nbconvert_exporter": "python",
   "pygments_lexer": "ipython3",
   "version": "3.12.4"
  }
 },
 "nbformat": 4,
 "nbformat_minor": 5
}
