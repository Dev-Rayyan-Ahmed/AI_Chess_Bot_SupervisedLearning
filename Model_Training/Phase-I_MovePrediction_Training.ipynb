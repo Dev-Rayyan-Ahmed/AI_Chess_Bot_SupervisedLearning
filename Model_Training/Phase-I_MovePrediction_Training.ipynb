{
 "cells": [
  {
   "cell_type": "markdown",
   "id": "4Fd9fKLG0klH",
   "metadata": {
    "id": "4Fd9fKLG0klH"
   },
   "source": [
    "### Mounting Drive and Changing Directory"
   ]
  },
  {
   "cell_type": "code",
   "execution_count": null,
   "id": "bewuX3Bmz5-t",
   "metadata": {
    "colab": {
     "base_uri": "https://localhost:8080/"
    },
    "executionInfo": {
     "elapsed": 3646,
     "status": "ok",
     "timestamp": 1754262045122,
     "user": {
      "displayName": "DevRayyan",
      "userId": "08144514050235668310"
     },
     "user_tz": -300
    },
    "id": "bewuX3Bmz5-t",
    "outputId": "e89df7ff-2537-4828-d303-14c0511c9401"
   },
   "outputs": [
    {
     "name": "stdout",
     "output_type": "stream",
     "text": [
      "Drive already mounted at /content/drive; to attempt to forcibly remount, call drive.mount(\"/content/drive\", force_remount=True).\n",
      "/content/drive/My Drive/Chess_AI/Model_Training\n"
     ]
    }
   ],
   "source": [
    "import os\n",
    "from google.colab import drive\n",
    "drive.mount('/content/drive')\n",
    "\n",
    "# Change to your folder in Drive\n",
    "os.chdir('/content/drive/My Drive/Chess_AI/Model_Training')\n",
    "print(os.getcwd())\n"
   ]
  },
  {
   "cell_type": "code",
   "execution_count": null,
   "id": "19wnH1qm2prT",
   "metadata": {
    "colab": {
     "base_uri": "https://localhost:8080/"
    },
    "executionInfo": {
     "elapsed": 119,
     "status": "ok",
     "timestamp": 1754262046928,
     "user": {
      "displayName": "DevRayyan",
      "userId": "08144514050235668310"
     },
     "user_tz": -300
    },
    "id": "19wnH1qm2prT",
    "outputId": "2d8366d5-14a5-4e5c-8bae-c4692d90fbef"
   },
   "outputs": [
    {
     "name": "stdout",
     "output_type": "stream",
     "text": [
      "ChessBot_SupervisedLearning.ipynb  \u001b[0m\u001b[01;34mDataSet\u001b[0m/  \u001b[01;34mstockfish\u001b[0m/\n"
     ]
    }
   ],
   "source": [
    "ls"
   ]
  },
  {
   "cell_type": "markdown",
   "id": "4ae1a2a3531af438",
   "metadata": {
    "id": "4ae1a2a3531af438"
   },
   "source": [
    "### Loading Data"
   ]
  },
  {
   "cell_type": "code",
   "execution_count": 1,
   "id": "initial_id",
   "metadata": {
    "ExecuteTime": {
     "end_time": "2025-08-03T10:53:40.725742Z",
     "start_time": "2025-08-03T10:53:40.687897Z"
    },
    "collapsed": true,
    "id": "initial_id"
   },
   "outputs": [],
   "source": [
    "import os\n",
    "path = r\"DataSet/\"\n",
    "files = [file for file in os.listdir(path)]"
   ]
  },
  {
   "cell_type": "code",
   "execution_count": 2,
   "id": "7614ac97056a3e31",
   "metadata": {
    "ExecuteTime": {
     "end_time": "2025-08-03T10:53:42.630306Z",
     "start_time": "2025-08-03T10:53:42.576733Z"
    },
    "colab": {
     "base_uri": "https://localhost:8080/"
    },
    "executionInfo": {
     "elapsed": 24,
     "status": "ok",
     "timestamp": 1754262049754,
     "user": {
      "displayName": "DevRayyan",
      "userId": "08144514050235668310"
     },
     "user_tz": -300
    },
    "id": "7614ac97056a3e31",
    "outputId": "d43489eb-93eb-42a6-f751-6fcd1b9c2297"
   },
   "outputs": [
    {
     "name": "stdout",
     "output_type": "stream",
     "text": [
      "Files are:  79\n"
     ]
    }
   ],
   "source": [
    "print(\"Files are: \",len(files))"
   ]
  },
  {
   "cell_type": "markdown",
   "id": "vu0ohf0C21ri",
   "metadata": {
    "id": "vu0ohf0C21ri"
   },
   "source": [
    "### Downloading Required Libraries"
   ]
  },
  {
   "cell_type": "code",
   "execution_count": 8,
   "id": "1Vk3_f0d20gV",
   "metadata": {
    "colab": {
     "base_uri": "https://localhost:8080/"
    },
    "executionInfo": {
     "elapsed": 24786,
     "status": "ok",
     "timestamp": 1754262079810,
     "user": {
      "displayName": "DevRayyan",
      "userId": "08144514050235668310"
     },
     "user_tz": -300
    },
    "id": "1Vk3_f0d20gV",
    "outputId": "d03ca6ab-fef6-4d35-bcce-c6f160f8ad7b"
   },
   "outputs": [
    {
     "name": "stdout",
     "output_type": "stream",
     "text": [
      "Requirement already satisfied: chess in c:\\users\\romey si\\appdata\\local\\programs\\python\\python313\\lib\\site-packages (1.11.2)\n"
     ]
    },
    {
     "name": "stderr",
     "output_type": "stream",
     "text": [
      "\n",
      "[notice] A new release of pip is available: 25.0.1 -> 25.2\n",
      "[notice] To update, run: python.exe -m pip install --upgrade pip\n"
     ]
    },
    {
     "name": "stdout",
     "output_type": "stream",
     "text": [
      "Requirement already satisfied: tqdm in c:\\users\\romey si\\appdata\\local\\programs\\python\\python313\\lib\\site-packages (4.67.1)\n",
      "Requirement already satisfied: colorama in c:\\users\\romey si\\appdata\\local\\programs\\python\\python313\\lib\\site-packages (from tqdm) (0.4.6)\n"
     ]
    },
    {
     "name": "stderr",
     "output_type": "stream",
     "text": [
      "\n",
      "[notice] A new release of pip is available: 25.0.1 -> 25.2\n",
      "[notice] To update, run: python.exe -m pip install --upgrade pip\n"
     ]
    },
    {
     "name": "stdout",
     "output_type": "stream",
     "text": [
      "Requirement already satisfied: tensorflow in c:\\users\\romey si\\appdata\\local\\programs\\python\\python313\\lib\\site-packages (2.20.0rc0)\n",
      "Requirement already satisfied: absl-py>=1.0.0 in c:\\users\\romey si\\appdata\\local\\programs\\python\\python313\\lib\\site-packages (from tensorflow) (2.3.1)\n",
      "Requirement already satisfied: astunparse>=1.6.0 in c:\\users\\romey si\\appdata\\local\\programs\\python\\python313\\lib\\site-packages (from tensorflow) (1.6.3)\n",
      "Requirement already satisfied: flatbuffers>=24.3.25 in c:\\users\\romey si\\appdata\\local\\programs\\python\\python313\\lib\\site-packages (from tensorflow) (25.2.10)\n",
      "Requirement already satisfied: gast!=0.5.0,!=0.5.1,!=0.5.2,>=0.2.1 in c:\\users\\romey si\\appdata\\local\\programs\\python\\python313\\lib\\site-packages (from tensorflow) (0.6.0)\n",
      "Requirement already satisfied: google_pasta>=0.1.1 in c:\\users\\romey si\\appdata\\local\\programs\\python\\python313\\lib\\site-packages (from tensorflow) (0.2.0)\n",
      "Requirement already satisfied: libclang>=13.0.0 in c:\\users\\romey si\\appdata\\local\\programs\\python\\python313\\lib\\site-packages (from tensorflow) (18.1.1)\n",
      "Requirement already satisfied: opt_einsum>=2.3.2 in c:\\users\\romey si\\appdata\\local\\programs\\python\\python313\\lib\\site-packages (from tensorflow) (3.4.0)\n",
      "Requirement already satisfied: packaging in c:\\users\\romey si\\appdata\\local\\programs\\python\\python313\\lib\\site-packages (from tensorflow) (25.0)\n",
      "Requirement already satisfied: protobuf>=5.28.0 in c:\\users\\romey si\\appdata\\local\\programs\\python\\python313\\lib\\site-packages (from tensorflow) (6.31.1)\n",
      "Requirement already satisfied: requests<3,>=2.21.0 in c:\\users\\romey si\\appdata\\local\\programs\\python\\python313\\lib\\site-packages (from tensorflow) (2.32.4)\n",
      "Requirement already satisfied: setuptools in c:\\users\\romey si\\appdata\\local\\programs\\python\\python313\\lib\\site-packages (from tensorflow) (80.9.0)\n",
      "Requirement already satisfied: six>=1.12.0 in c:\\users\\romey si\\appdata\\local\\programs\\python\\python313\\lib\\site-packages (from tensorflow) (1.17.0)\n",
      "Requirement already satisfied: termcolor>=1.1.0 in c:\\users\\romey si\\appdata\\local\\programs\\python\\python313\\lib\\site-packages (from tensorflow) (3.1.0)\n",
      "Requirement already satisfied: typing_extensions>=3.6.6 in c:\\users\\romey si\\appdata\\local\\programs\\python\\python313\\lib\\site-packages (from tensorflow) (4.14.1)\n",
      "Requirement already satisfied: wrapt>=1.11.0 in c:\\users\\romey si\\appdata\\local\\programs\\python\\python313\\lib\\site-packages (from tensorflow) (1.17.2)\n",
      "Requirement already satisfied: grpcio<2.0,>=1.24.3 in c:\\users\\romey si\\appdata\\local\\programs\\python\\python313\\lib\\site-packages (from tensorflow) (1.74.0)\n",
      "Requirement already satisfied: tensorboard~=2.20.0 in c:\\users\\romey si\\appdata\\local\\programs\\python\\python313\\lib\\site-packages (from tensorflow) (2.20.0)\n",
      "Requirement already satisfied: keras>=3.10.0 in c:\\users\\romey si\\appdata\\local\\programs\\python\\python313\\lib\\site-packages (from tensorflow) (3.11.1)\n",
      "Requirement already satisfied: numpy>=1.26.0 in c:\\users\\romey si\\appdata\\local\\programs\\python\\python313\\lib\\site-packages (from tensorflow) (2.3.2)\n",
      "Requirement already satisfied: h5py>=3.11.0 in c:\\users\\romey si\\appdata\\local\\programs\\python\\python313\\lib\\site-packages (from tensorflow) (3.14.0)\n",
      "Requirement already satisfied: ml_dtypes<1.0.0,>=0.5.1 in c:\\users\\romey si\\appdata\\local\\programs\\python\\python313\\lib\\site-packages (from tensorflow) (0.5.3)\n",
      "Requirement already satisfied: wheel<1.0,>=0.23.0 in c:\\users\\romey si\\appdata\\local\\programs\\python\\python313\\lib\\site-packages (from astunparse>=1.6.0->tensorflow) (0.45.1)\n",
      "Requirement already satisfied: rich in c:\\users\\romey si\\appdata\\local\\programs\\python\\python313\\lib\\site-packages (from keras>=3.10.0->tensorflow) (14.1.0)\n",
      "Requirement already satisfied: namex in c:\\users\\romey si\\appdata\\local\\programs\\python\\python313\\lib\\site-packages (from keras>=3.10.0->tensorflow) (0.1.0)\n",
      "Requirement already satisfied: optree in c:\\users\\romey si\\appdata\\local\\programs\\python\\python313\\lib\\site-packages (from keras>=3.10.0->tensorflow) (0.17.0)\n",
      "Requirement already satisfied: charset_normalizer<4,>=2 in c:\\users\\romey si\\appdata\\local\\programs\\python\\python313\\lib\\site-packages (from requests<3,>=2.21.0->tensorflow) (3.4.2)\n",
      "Requirement already satisfied: idna<4,>=2.5 in c:\\users\\romey si\\appdata\\local\\programs\\python\\python313\\lib\\site-packages (from requests<3,>=2.21.0->tensorflow) (3.10)\n",
      "Requirement already satisfied: urllib3<3,>=1.21.1 in c:\\users\\romey si\\appdata\\local\\programs\\python\\python313\\lib\\site-packages (from requests<3,>=2.21.0->tensorflow) (2.5.0)\n",
      "Requirement already satisfied: certifi>=2017.4.17 in c:\\users\\romey si\\appdata\\local\\programs\\python\\python313\\lib\\site-packages (from requests<3,>=2.21.0->tensorflow) (2025.8.3)\n",
      "Requirement already satisfied: markdown>=2.6.8 in c:\\users\\romey si\\appdata\\local\\programs\\python\\python313\\lib\\site-packages (from tensorboard~=2.20.0->tensorflow) (3.8.2)\n",
      "Requirement already satisfied: pillow in c:\\users\\romey si\\appdata\\local\\programs\\python\\python313\\lib\\site-packages (from tensorboard~=2.20.0->tensorflow) (11.3.0)\n",
      "Requirement already satisfied: tensorboard-data-server<0.8.0,>=0.7.0 in c:\\users\\romey si\\appdata\\local\\programs\\python\\python313\\lib\\site-packages (from tensorboard~=2.20.0->tensorflow) (0.7.2)\n",
      "Requirement already satisfied: werkzeug>=1.0.1 in c:\\users\\romey si\\appdata\\local\\programs\\python\\python313\\lib\\site-packages (from tensorboard~=2.20.0->tensorflow) (3.1.3)\n",
      "Requirement already satisfied: MarkupSafe>=2.1.1 in c:\\users\\romey si\\appdata\\local\\programs\\python\\python313\\lib\\site-packages (from werkzeug>=1.0.1->tensorboard~=2.20.0->tensorflow) (3.0.2)\n",
      "Requirement already satisfied: markdown-it-py>=2.2.0 in c:\\users\\romey si\\appdata\\local\\programs\\python\\python313\\lib\\site-packages (from rich->keras>=3.10.0->tensorflow) (3.0.0)\n",
      "Requirement already satisfied: pygments<3.0.0,>=2.13.0 in c:\\users\\romey si\\appdata\\local\\programs\\python\\python313\\lib\\site-packages (from rich->keras>=3.10.0->tensorflow) (2.19.2)\n",
      "Requirement already satisfied: mdurl~=0.1 in c:\\users\\romey si\\appdata\\local\\programs\\python\\python313\\lib\\site-packages (from markdown-it-py>=2.2.0->rich->keras>=3.10.0->tensorflow) (0.1.2)\n"
     ]
    },
    {
     "name": "stderr",
     "output_type": "stream",
     "text": [
      "\n",
      "[notice] A new release of pip is available: 25.0.1 -> 25.2\n",
      "[notice] To update, run: python.exe -m pip install --upgrade pip\n"
     ]
    },
    {
     "name": "stdout",
     "output_type": "stream",
     "text": [
      "Requirement already satisfied: numpy in c:\\users\\romey si\\appdata\\local\\programs\\python\\python313\\lib\\site-packages (2.3.2)\n"
     ]
    },
    {
     "name": "stderr",
     "output_type": "stream",
     "text": [
      "\n",
      "[notice] A new release of pip is available: 25.0.1 -> 25.2\n",
      "[notice] To update, run: python.exe -m pip install --upgrade pip\n"
     ]
    }
   ],
   "source": [
    "!pip install chess\n",
    "!pip install tqdm\n",
    "!pip install tensorflow\n",
    "!pip install numpy"
   ]
  },
  {
   "cell_type": "markdown",
   "id": "6204604c2e10dd4c",
   "metadata": {
    "id": "6204604c2e10dd4c"
   },
   "source": [
    "### Using Chess Lib to Import PGN"
   ]
  },
  {
   "cell_type": "code",
   "execution_count": 3,
   "id": "e10c1a3700c364e7",
   "metadata": {
    "ExecuteTime": {
     "end_time": "2025-08-03T10:52:55.188687Z",
     "start_time": "2025-08-03T10:52:54.829311Z"
    },
    "id": "e10c1a3700c364e7"
   },
   "outputs": [],
   "source": [
    "from chess import pgn, Board\n",
    "\n",
    "\n",
    "def load_pgn(file_path):\n",
    "    games = []\n",
    "    with open(file_path, \"r\") as pgn_file:\n",
    "        while True:\n",
    "            game = pgn.read_game(pgn_file)\n",
    "            if game is None:\n",
    "                break\n",
    "            else:\n",
    "                games.append(game)\n",
    "    return games\n"
   ]
  },
  {
   "cell_type": "code",
   "execution_count": null,
   "id": "3d69ba376fe2e474",
   "metadata": {
    "ExecuteTime": {
     "end_time": "2025-08-03T11:07:30.660707Z",
     "start_time": "2025-08-03T11:07:09.390773Z"
    },
    "colab": {
     "base_uri": "https://localhost:8080/"
    },
    "executionInfo": {
     "elapsed": 73715,
     "status": "ok",
     "timestamp": 1754262153632,
     "user": {
      "displayName": "DevRayyan",
      "userId": "08144514050235668310"
     },
     "user_tz": -300
    },
    "id": "3d69ba376fe2e474",
    "outputId": "08bd858e-ebfd-459b-b949-c1ee5c3bf7bb"
   },
   "outputs": [
    {
     "name": "stderr",
     "output_type": "stream",
     "text": [
      " 19%|█▉        | 15/79 [00:11<00:48,  1.33it/s]\n"
     ]
    }
   ],
   "source": [
    "from tqdm import tqdm\n",
    "\n",
    "# Memory Limit:\n",
    "limit_files = 16\n",
    "games = []\n",
    "i = 1\n",
    "for file in tqdm(files):\n",
    "    games.extend(load_pgn(os.path.join(path, file)))\n",
    "    if i >= limit_files:\n",
    "        break\n",
    "    i+=1"
   ]
  },
  {
   "cell_type": "code",
   "execution_count": 227,
   "id": "d1dde26dbd80939c",
   "metadata": {
    "ExecuteTime": {
     "end_time": "2025-08-03T15:47:16.109959Z",
     "start_time": "2025-08-03T15:47:16.037931Z"
    },
    "colab": {
     "base_uri": "https://localhost:8080/"
    },
    "executionInfo": {
     "elapsed": 19,
     "status": "ok",
     "timestamp": 1754262153654,
     "user": {
      "displayName": "DevRayyan",
      "userId": "08144514050235668310"
     },
     "user_tz": -300
    },
    "id": "d1dde26dbd80939c",
    "outputId": "87761740-ee15-4720-ff1c-27cf2eeda603"
   },
   "outputs": [
    {
     "name": "stdout",
     "output_type": "stream",
     "text": [
      "3356\n",
      "<class 'chess.pgn.Game'>\n",
      "\n",
      "[Event \"Rated Blitz game\"]\n",
      "[Site \"?\"]\n",
      "[Date \"????.??.??\"]\n",
      "[Round \"?\"]\n",
      "[White \"Matetricks\"]\n",
      "[Black \"nicky\"]\n",
      "[Result \"1-0\"]\n",
      "[WhiteTitle \"NM\"]\n",
      "[WhiteElo \"2471\"]\n",
      "[BlackElo \"2211\"]\n",
      "[ECO \"B01\"]\n",
      "[Opening \"Scandinavian Defense: Main Line\"]\n",
      "[TimeControl \"180+0\"]\n",
      "[UTCDate \"2013.09.25\"]\n",
      "[UTCTime \"00:38:04\"]\n",
      "[Termination \"Normal\"]\n",
      "[WhiteRatingDiff \"+7\"]\n",
      "[BlackRatingDiff \"-6\"]\n",
      "\n",
      "1. e4 d5 2. exd5 Qxd5 3. Nc3 Qa5 4. d4 c6 5. Nf3 Nf6 6. Bc4 Bg4 7. h3 Bh5 8. O-O e6 9. g4 Nxg4 10. hxg4 Bxg4 11. Be2 Bd6 12. Ne4 Bc7 13. Nc5 Bd6 14. Nxb7 Qc7 15. Nxd6+ Qxd6 16. Qd2 Bf5 17. c4 h5 18. Qf4 Qb4 19. d5 cxd5 20. cxd5 Qxf4 21. Bxf4 exd5 22. Nd4 Bd7 23. Bf3 Na6 24. Rfe1+ Kf8 25. Bxd5 Re8 26. Bd6+ Kg8 27. Rxe8+ Bxe8 28. Re1 Kh7 29. Re7 1-0\n"
     ]
    }
   ],
   "source": [
    "print(len(games))\n",
    "print(type(games[0]))\n",
    "print() # Extra Line\n",
    "print(games[0])"
   ]
  },
  {
   "cell_type": "markdown",
   "id": "6423c09b18eb05a9",
   "metadata": {
    "id": "6423c09b18eb05a9"
   },
   "source": [
    "## Training Nural Network"
   ]
  },
  {
   "cell_type": "code",
   "execution_count": 9,
   "id": "4be3b28782d8989e",
   "metadata": {
    "ExecuteTime": {
     "end_time": "2025-08-03T16:22:49.313851Z",
     "start_time": "2025-08-03T16:22:49.296157Z"
    },
    "colab": {
     "base_uri": "https://localhost:8080/"
    },
    "executionInfo": {
     "elapsed": 11440,
     "status": "ok",
     "timestamp": 1754262358737,
     "user": {
      "displayName": "DevRayyan",
      "userId": "08144514050235668310"
     },
     "user_tz": -300
    },
    "id": "4be3b28782d8989e",
    "outputId": "cd88601f-3ffd-4b69-e366-7759d6940109"
   },
   "outputs": [
    {
     "name": "stdout",
     "output_type": "stream",
     "text": [
      "Imports OK\n"
     ]
    }
   ],
   "source": [
    "import numpy as np\n",
    "from chess import Board\n",
    "\n",
    "from tensorflow.keras.utils import to_categorical\n",
    "from tensorflow.keras.models import Sequential\n",
    "from tensorflow.keras.layers import Conv2D, Flatten, Dense\n",
    "from tensorflow.keras.optimizers import Adam\n",
    "print(\"Imports OK\")\n"
   ]
  },
  {
   "cell_type": "code",
   "execution_count": 223,
   "id": "158ade0c2fb3ee3f",
   "metadata": {
    "ExecuteTime": {
     "end_time": "2025-08-03T19:56:54.842162Z",
     "start_time": "2025-08-03T19:56:54.765503Z"
    },
    "id": "158ade0c2fb3ee3f"
   },
   "outputs": [],
   "source": [
    "# Utility Functions\n",
    "def board_to_matrix(board: Board):\n",
    "    matrix = np.zeros((8,8,12))\n",
    "    piece_map = board.piece_map()\n",
    "\n",
    "    for square, piece in piece_map.items():\n",
    "        row,col = divmod(square,8)\n",
    "\n",
    "        # for channel selection\n",
    "\n",
    "        piece_type = piece.piece_type - 1 # using zero-based channels\n",
    "        piece_color = 0 if piece.color else 1\n",
    "\n",
    "        channel = piece_type + piece_color\n",
    "\n",
    "        matrix[row][col][channel] = 1\n",
    "    return matrix\n",
    "\n",
    "def create_input_for_nn(games):\n",
    "    X = [] # Collecting all moves for the game\n",
    "    y = [] # will be using this to collect actual answers\n",
    "    for game in games:\n",
    "        board = game.board()\n",
    "        for move in game.mainline_moves():\n",
    "            X.append(board_to_matrix(board))\n",
    "            y.append(move.uci())\n",
    "            board.push(move)\n",
    "\n",
    "    return X,y\n",
    "\n",
    "def encode_moves(moves):\n",
    "    # that is making uci-format as Dict--> {e2e4:1} unique number for each\n",
    "    move_to_int = {move:idx for idx, move in enumerate(set(moves))}\n",
    "    # set to avoid duplications\n",
    "\n",
    "    return [move_to_int[move] for move in moves], move_to_int\n",
    "\n",
    "    # here returning::\n",
    "    # [0,1,2,3,4,5,6,---] and {\"move-uci\" : <unique-index>}\n",
    "    # like --> {\"e2e4\" : 3, ---, so-on}"
   ]
  },
  {
   "cell_type": "code",
   "execution_count": 228,
   "id": "3b550d664b85268f",
   "metadata": {
    "ExecuteTime": {
     "end_time": "2025-08-03T19:58:28.733452Z",
     "start_time": "2025-08-03T19:56:55.496970Z"
    },
    "id": "3b550d664b85268f"
   },
   "outputs": [
    {
     "ename": "MemoryError",
     "evalue": "Unable to allocate 3.88 GiB for an array with shape (283583, 1835) and data type float64",
     "output_type": "error",
     "traceback": [
      "\u001b[31m---------------------------------------------------------------------------\u001b[39m",
      "\u001b[31mMemoryError\u001b[39m                               Traceback (most recent call last)",
      "\u001b[36mCell\u001b[39m\u001b[36m \u001b[39m\u001b[32mIn[228]\u001b[39m\u001b[32m, line 4\u001b[39m\n\u001b[32m      2\u001b[39m X,y = create_input_for_nn(games)\n\u001b[32m      3\u001b[39m y,move_to_int = encode_moves(y)\n\u001b[32m----> \u001b[39m\u001b[32m4\u001b[39m y = \u001b[43mto_categorical\u001b[49m\u001b[43m(\u001b[49m\u001b[43my\u001b[49m\u001b[43m,\u001b[49m\u001b[43m \u001b[49m\u001b[43mnum_classes\u001b[49m\u001b[43m=\u001b[49m\u001b[38;5;28;43mlen\u001b[39;49m\u001b[43m(\u001b[49m\u001b[43mmove_to_int\u001b[49m\u001b[43m)\u001b[49m\u001b[43m)\u001b[49m\n\u001b[32m      5\u001b[39m X = np.array(X)\n",
      "\u001b[36mFile \u001b[39m\u001b[32mc:\\Users\\Romey Si\\AppData\\Local\\Programs\\Python\\Python313\\Lib\\site-packages\\keras\\src\\utils\\numerical_utils.py:97\u001b[39m, in \u001b[36mto_categorical\u001b[39m\u001b[34m(x, num_classes)\u001b[39m\n\u001b[32m     95\u001b[39m     num_classes = np.max(x) + \u001b[32m1\u001b[39m\n\u001b[32m     96\u001b[39m batch_size = x.shape[\u001b[32m0\u001b[39m]\n\u001b[32m---> \u001b[39m\u001b[32m97\u001b[39m categorical = \u001b[43mnp\u001b[49m\u001b[43m.\u001b[49m\u001b[43mzeros\u001b[49m\u001b[43m(\u001b[49m\u001b[43m(\u001b[49m\u001b[43mbatch_size\u001b[49m\u001b[43m,\u001b[49m\u001b[43m \u001b[49m\u001b[43mnum_classes\u001b[49m\u001b[43m)\u001b[49m\u001b[43m)\u001b[49m\n\u001b[32m     98\u001b[39m categorical[np.arange(batch_size), x] = \u001b[32m1\u001b[39m\n\u001b[32m     99\u001b[39m output_shape = input_shape + (num_classes,)\n",
      "\u001b[31mMemoryError\u001b[39m: Unable to allocate 3.88 GiB for an array with shape (283583, 1835) and data type float64"
     ]
    }
   ],
   "source": [
    "# Input and Output-Validation for NN\n",
    "X,y = create_input_for_nn(games)\n",
    "y,move_to_int = encode_moves(y)\n",
    "y = to_categorical(y, num_classes=len(move_to_int))\n",
    "X = np.array(X)\n"
   ]
  },
  {
   "cell_type": "code",
   "execution_count": null,
   "id": "47ab981ca03cd265",
   "metadata": {
    "id": "47ab981ca03cd265"
   },
   "outputs": [
    {
     "name": "stderr",
     "output_type": "stream",
     "text": [
      "c:\\Users\\Romey Si\\AppData\\Local\\Programs\\Python\\Python313\\Lib\\site-packages\\keras\\src\\layers\\convolutional\\base_conv.py:113: UserWarning: Do not pass an `input_shape`/`input_dim` argument to a layer. When using Sequential models, prefer using an `Input(shape)` object as the first layer in the model instead.\n",
      "  super().__init__(activity_regularizer=activity_regularizer, **kwargs)\n"
     ]
    },
    {
     "data": {
      "text/html": [
       "<pre style=\"white-space:pre;overflow-x:auto;line-height:normal;font-family:Menlo,'DejaVu Sans Mono',consolas,'Courier New',monospace\"><span style=\"font-weight: bold\">Model: \"sequential_3\"</span>\n",
       "</pre>\n"
      ],
      "text/plain": [
       "\u001b[1mModel: \"sequential_3\"\u001b[0m\n"
      ]
     },
     "metadata": {},
     "output_type": "display_data"
    },
    {
     "data": {
      "text/html": [
       "<pre style=\"white-space:pre;overflow-x:auto;line-height:normal;font-family:Menlo,'DejaVu Sans Mono',consolas,'Courier New',monospace\">┏━━━━━━━━━━━━━━━━━━━━━━━━━━━━━━━━━┳━━━━━━━━━━━━━━━━━━━━━━━━┳━━━━━━━━━━━━━━━┓\n",
       "┃<span style=\"font-weight: bold\"> Layer (type)                    </span>┃<span style=\"font-weight: bold\"> Output Shape           </span>┃<span style=\"font-weight: bold\">       Param # </span>┃\n",
       "┡━━━━━━━━━━━━━━━━━━━━━━━━━━━━━━━━━╇━━━━━━━━━━━━━━━━━━━━━━━━╇━━━━━━━━━━━━━━━┩\n",
       "│ conv2d_6 (<span style=\"color: #0087ff; text-decoration-color: #0087ff\">Conv2D</span>)               │ (<span style=\"color: #00d7ff; text-decoration-color: #00d7ff\">None</span>, <span style=\"color: #00af00; text-decoration-color: #00af00\">6</span>, <span style=\"color: #00af00; text-decoration-color: #00af00\">6</span>, <span style=\"color: #00af00; text-decoration-color: #00af00\">64</span>)       │         <span style=\"color: #00af00; text-decoration-color: #00af00\">6,976</span> │\n",
       "├─────────────────────────────────┼────────────────────────┼───────────────┤\n",
       "│ conv2d_7 (<span style=\"color: #0087ff; text-decoration-color: #0087ff\">Conv2D</span>)               │ (<span style=\"color: #00d7ff; text-decoration-color: #00d7ff\">None</span>, <span style=\"color: #00af00; text-decoration-color: #00af00\">4</span>, <span style=\"color: #00af00; text-decoration-color: #00af00\">4</span>, <span style=\"color: #00af00; text-decoration-color: #00af00\">128</span>)      │        <span style=\"color: #00af00; text-decoration-color: #00af00\">73,856</span> │\n",
       "├─────────────────────────────────┼────────────────────────┼───────────────┤\n",
       "│ flatten_3 (<span style=\"color: #0087ff; text-decoration-color: #0087ff\">Flatten</span>)             │ (<span style=\"color: #00d7ff; text-decoration-color: #00d7ff\">None</span>, <span style=\"color: #00af00; text-decoration-color: #00af00\">2048</span>)           │             <span style=\"color: #00af00; text-decoration-color: #00af00\">0</span> │\n",
       "├─────────────────────────────────┼────────────────────────┼───────────────┤\n",
       "│ dense_6 (<span style=\"color: #0087ff; text-decoration-color: #0087ff\">Dense</span>)                 │ (<span style=\"color: #00d7ff; text-decoration-color: #00d7ff\">None</span>, <span style=\"color: #00af00; text-decoration-color: #00af00\">256</span>)            │       <span style=\"color: #00af00; text-decoration-color: #00af00\">524,544</span> │\n",
       "├─────────────────────────────────┼────────────────────────┼───────────────┤\n",
       "│ dense_7 (<span style=\"color: #0087ff; text-decoration-color: #0087ff\">Dense</span>)                 │ (<span style=\"color: #00d7ff; text-decoration-color: #00d7ff\">None</span>, <span style=\"color: #00af00; text-decoration-color: #00af00\">1841</span>)           │       <span style=\"color: #00af00; text-decoration-color: #00af00\">473,137</span> │\n",
       "└─────────────────────────────────┴────────────────────────┴───────────────┘\n",
       "</pre>\n"
      ],
      "text/plain": [
       "┏━━━━━━━━━━━━━━━━━━━━━━━━━━━━━━━━━┳━━━━━━━━━━━━━━━━━━━━━━━━┳━━━━━━━━━━━━━━━┓\n",
       "┃\u001b[1m \u001b[0m\u001b[1mLayer (type)                   \u001b[0m\u001b[1m \u001b[0m┃\u001b[1m \u001b[0m\u001b[1mOutput Shape          \u001b[0m\u001b[1m \u001b[0m┃\u001b[1m \u001b[0m\u001b[1m      Param #\u001b[0m\u001b[1m \u001b[0m┃\n",
       "┡━━━━━━━━━━━━━━━━━━━━━━━━━━━━━━━━━╇━━━━━━━━━━━━━━━━━━━━━━━━╇━━━━━━━━━━━━━━━┩\n",
       "│ conv2d_6 (\u001b[38;5;33mConv2D\u001b[0m)               │ (\u001b[38;5;45mNone\u001b[0m, \u001b[38;5;34m6\u001b[0m, \u001b[38;5;34m6\u001b[0m, \u001b[38;5;34m64\u001b[0m)       │         \u001b[38;5;34m6,976\u001b[0m │\n",
       "├─────────────────────────────────┼────────────────────────┼───────────────┤\n",
       "│ conv2d_7 (\u001b[38;5;33mConv2D\u001b[0m)               │ (\u001b[38;5;45mNone\u001b[0m, \u001b[38;5;34m4\u001b[0m, \u001b[38;5;34m4\u001b[0m, \u001b[38;5;34m128\u001b[0m)      │        \u001b[38;5;34m73,856\u001b[0m │\n",
       "├─────────────────────────────────┼────────────────────────┼───────────────┤\n",
       "│ flatten_3 (\u001b[38;5;33mFlatten\u001b[0m)             │ (\u001b[38;5;45mNone\u001b[0m, \u001b[38;5;34m2048\u001b[0m)           │             \u001b[38;5;34m0\u001b[0m │\n",
       "├─────────────────────────────────┼────────────────────────┼───────────────┤\n",
       "│ dense_6 (\u001b[38;5;33mDense\u001b[0m)                 │ (\u001b[38;5;45mNone\u001b[0m, \u001b[38;5;34m256\u001b[0m)            │       \u001b[38;5;34m524,544\u001b[0m │\n",
       "├─────────────────────────────────┼────────────────────────┼───────────────┤\n",
       "│ dense_7 (\u001b[38;5;33mDense\u001b[0m)                 │ (\u001b[38;5;45mNone\u001b[0m, \u001b[38;5;34m1841\u001b[0m)           │       \u001b[38;5;34m473,137\u001b[0m │\n",
       "└─────────────────────────────────┴────────────────────────┴───────────────┘\n"
      ]
     },
     "metadata": {},
     "output_type": "display_data"
    },
    {
     "data": {
      "text/html": [
       "<pre style=\"white-space:pre;overflow-x:auto;line-height:normal;font-family:Menlo,'DejaVu Sans Mono',consolas,'Courier New',monospace\"><span style=\"font-weight: bold\"> Total params: </span><span style=\"color: #00af00; text-decoration-color: #00af00\">1,078,513</span> (4.11 MB)\n",
       "</pre>\n"
      ],
      "text/plain": [
       "\u001b[1m Total params: \u001b[0m\u001b[38;5;34m1,078,513\u001b[0m (4.11 MB)\n"
      ]
     },
     "metadata": {},
     "output_type": "display_data"
    },
    {
     "data": {
      "text/html": [
       "<pre style=\"white-space:pre;overflow-x:auto;line-height:normal;font-family:Menlo,'DejaVu Sans Mono',consolas,'Courier New',monospace\"><span style=\"font-weight: bold\"> Trainable params: </span><span style=\"color: #00af00; text-decoration-color: #00af00\">1,078,513</span> (4.11 MB)\n",
       "</pre>\n"
      ],
      "text/plain": [
       "\u001b[1m Trainable params: \u001b[0m\u001b[38;5;34m1,078,513\u001b[0m (4.11 MB)\n"
      ]
     },
     "metadata": {},
     "output_type": "display_data"
    },
    {
     "data": {
      "text/html": [
       "<pre style=\"white-space:pre;overflow-x:auto;line-height:normal;font-family:Menlo,'DejaVu Sans Mono',consolas,'Courier New',monospace\"><span style=\"font-weight: bold\"> Non-trainable params: </span><span style=\"color: #00af00; text-decoration-color: #00af00\">0</span> (0.00 B)\n",
       "</pre>\n"
      ],
      "text/plain": [
       "\u001b[1m Non-trainable params: \u001b[0m\u001b[38;5;34m0\u001b[0m (0.00 B)\n"
      ]
     },
     "metadata": {},
     "output_type": "display_data"
    },
    {
     "ename": "MemoryError",
     "evalue": "Unable to allocate 2.15 GiB for an array with shape (314189, 1841) and data type float32",
     "output_type": "error",
     "traceback": [
      "\u001b[31m---------------------------------------------------------------------------\u001b[39m",
      "\u001b[31mMemoryError\u001b[39m                               Traceback (most recent call last)",
      "\u001b[36mCell\u001b[39m\u001b[36m \u001b[39m\u001b[32mIn[225]\u001b[39m\u001b[32m, line 13\u001b[39m\n\u001b[32m     11\u001b[39m epochs = \u001b[32m50\u001b[39m\n\u001b[32m     12\u001b[39m model.summary()\n\u001b[32m---> \u001b[39m\u001b[32m13\u001b[39m history = \u001b[43mmodel\u001b[49m\u001b[43m.\u001b[49m\u001b[43mfit\u001b[49m\u001b[43m(\u001b[49m\u001b[43mX\u001b[49m\u001b[43m,\u001b[49m\u001b[43m \u001b[49m\u001b[43my\u001b[49m\u001b[43m,\u001b[49m\u001b[43m \u001b[49m\u001b[43mepochs\u001b[49m\u001b[43m=\u001b[49m\u001b[43mepochs\u001b[49m\u001b[43m,\u001b[49m\u001b[43m \u001b[49m\u001b[43mvalidation_split\u001b[49m\u001b[43m=\u001b[49m\u001b[32;43m0.1\u001b[39;49m\u001b[43m,\u001b[49m\u001b[43m \u001b[49m\u001b[43mbatch_size\u001b[49m\u001b[43m=\u001b[49m\u001b[32;43m64\u001b[39;49m\u001b[43m)\u001b[49m\n\u001b[32m     14\u001b[39m model.save(\u001b[33mf\u001b[39m\u001b[33m\"\u001b[39m\u001b[33mmodels/TF_\u001b[39m\u001b[38;5;132;01m{\u001b[39;00mepochs\u001b[38;5;132;01m}\u001b[39;00m\u001b[33mEPOCHS_\u001b[39m\u001b[38;5;132;01m{\u001b[39;00mlimit_files\u001b[38;5;132;01m}\u001b[39;00m\u001b[33m.keras\u001b[39m\u001b[33m\"\u001b[39m)\n\u001b[32m     16\u001b[39m \u001b[38;5;66;03m# for Importing into another file (it's needed, see prediction area to Understand)\u001b[39;00m\n",
      "\u001b[36mFile \u001b[39m\u001b[32mc:\\Users\\Romey Si\\AppData\\Local\\Programs\\Python\\Python313\\Lib\\site-packages\\keras\\src\\utils\\traceback_utils.py:122\u001b[39m, in \u001b[36mfilter_traceback.<locals>.error_handler\u001b[39m\u001b[34m(*args, **kwargs)\u001b[39m\n\u001b[32m    119\u001b[39m     filtered_tb = _process_traceback_frames(e.__traceback__)\n\u001b[32m    120\u001b[39m     \u001b[38;5;66;03m# To get the full stack trace, call:\u001b[39;00m\n\u001b[32m    121\u001b[39m     \u001b[38;5;66;03m# `keras.config.disable_traceback_filtering()`\u001b[39;00m\n\u001b[32m--> \u001b[39m\u001b[32m122\u001b[39m     \u001b[38;5;28;01mraise\u001b[39;00m e.with_traceback(filtered_tb) \u001b[38;5;28;01mfrom\u001b[39;00m\u001b[38;5;250m \u001b[39m\u001b[38;5;28;01mNone\u001b[39;00m\n\u001b[32m    123\u001b[39m \u001b[38;5;28;01mfinally\u001b[39;00m:\n\u001b[32m    124\u001b[39m     \u001b[38;5;28;01mdel\u001b[39;00m filtered_tb\n",
      "\u001b[36mFile \u001b[39m\u001b[32mc:\\Users\\Romey Si\\AppData\\Local\\Programs\\Python\\Python313\\Lib\\site-packages\\tensorflow\\python\\framework\\constant_op.py:96\u001b[39m, in \u001b[36mconvert_to_eager_tensor\u001b[39m\u001b[34m(value, ctx, dtype)\u001b[39m\n\u001b[32m     76\u001b[39m \u001b[38;5;250m\u001b[39m\u001b[33;03m\"\"\"Converts the given `value` to an `EagerTensor`.\u001b[39;00m\n\u001b[32m     77\u001b[39m \n\u001b[32m     78\u001b[39m \u001b[33;03mNote that this function could return cached copies of created constants for\u001b[39;00m\n\u001b[32m   (...)\u001b[39m\u001b[32m     90\u001b[39m \u001b[33;03m  TypeError: if `dtype` is not compatible with the type of t.\u001b[39;00m\n\u001b[32m     91\u001b[39m \u001b[33;03m\"\"\"\u001b[39;00m\n\u001b[32m     92\u001b[39m \u001b[38;5;28;01mif\u001b[39;00m \u001b[38;5;28misinstance\u001b[39m(value, np.ndarray):\n\u001b[32m     93\u001b[39m   \u001b[38;5;66;03m# Make a copy explicitly because the EagerTensor might share the underlying\u001b[39;00m\n\u001b[32m     94\u001b[39m   \u001b[38;5;66;03m# memory with the input array. Without this copy, users will be able to\u001b[39;00m\n\u001b[32m     95\u001b[39m   \u001b[38;5;66;03m# modify the EagerTensor after its creation by changing the input array.\u001b[39;00m\n\u001b[32m---> \u001b[39m\u001b[32m96\u001b[39m   value = \u001b[43mvalue\u001b[49m\u001b[43m.\u001b[49m\u001b[43mcopy\u001b[49m\u001b[43m(\u001b[49m\u001b[43m)\u001b[49m\n\u001b[32m     97\u001b[39m \u001b[38;5;28;01mif\u001b[39;00m \u001b[38;5;28misinstance\u001b[39m(value, ops.EagerTensor):\n\u001b[32m     98\u001b[39m   \u001b[38;5;28;01mif\u001b[39;00m dtype \u001b[38;5;129;01mis\u001b[39;00m \u001b[38;5;129;01mnot\u001b[39;00m \u001b[38;5;28;01mNone\u001b[39;00m \u001b[38;5;129;01mand\u001b[39;00m value.dtype != dtype:\n",
      "\u001b[31mMemoryError\u001b[39m: Unable to allocate 2.15 GiB for an array with shape (314189, 1841) and data type float32"
     ]
    }
   ],
   "source": [
    "## Nural Network Structure and DataFitting:\n",
    "model = Sequential([\n",
    "    Conv2D(64, (3, 3), activation='relu', input_shape=(8, 8, 12)),\n",
    "    Conv2D(128, (3, 3), activation='relu'),\n",
    "    Flatten(), # here it's being used to turn 3D output to 1D for Dense Layer\n",
    "    Dense(256, activation='relu'),\n",
    "    Dense(len(move_to_int), activation='softmax')\n",
    "])\n",
    "model.compile(optimizer=Adam(), loss='categorical_crossentropy', metrics=['accuracy'])\n",
    "# Tracks Accuracy Matrics each Epoch and backtracing to increasing it\n",
    "epochs = 50\n",
    "model.summary()\n",
    "history = model.fit(X, y, epochs=epochs, validation_split=0.1, batch_size=64)\n",
    "model.save(f\"models/TF_{epochs}EPOCHS_{limit_files}.keras\")\n",
    "\n",
    "# for Importing into another file (it's needed, see prediction area to Understand)\n",
    "import json\n",
    "with open(f\"move_to_ints_files/move_to_int_{epochs}_{limit_files}.json\", \"w\") as f:\n",
    "    json.dump(move_to_int, f)\n",
    "\n",
    "# To Load:\n",
    "# with open(\"move_to_int.json\", \"r\") as f:\n",
    "#     move_to_int = json.load(f)"
   ]
  },
  {
   "cell_type": "markdown",
   "id": "EVtHInf7izSi",
   "metadata": {
    "id": "EVtHInf7izSi"
   },
   "source": [
    "### Predictions"
   ]
  },
  {
   "cell_type": "code",
   "execution_count": 19,
   "id": "Br87zBSvi2C8",
   "metadata": {
    "id": "Br87zBSvi2C8"
   },
   "outputs": [],
   "source": [
    "int_to_move = {v:k for k,v in move_to_int.items()}\n",
    "\n",
    "def predict_next_move(board):\n",
    "\n",
    "    board_matrix = board_to_matrix(board).reshape(1, 8, 8, 12)\n",
    "    predictions = model.predict(board_matrix)[0]\n",
    "\n",
    "    legal_moves = list(board.legal_moves)\n",
    "    legal_moves_uci = [move.uci() for move in legal_moves]\n",
    "\n",
    "    sorted_indices = np.argsort(predictions)[::-1]\n",
    "\n",
    "    for move_index in sorted_indices:\n",
    "        move = int_to_move[move_index]\n",
    "        if move in legal_moves_uci:\n",
    "            return move\n",
    "    return None\n",
    "\n",
    "## Notes:\n",
    "# 1 Convert the board to input format expected by the model\n",
    "# 2 Get model predictions (a probability for each move class)\n",
    "# 3 Get all legal moves in the current position\n",
    "# 4 Sort move indices from most to least probable\n",
    "# 5 Go through top predicted moves and return the first legal one\n"
   ]
  },
  {
   "cell_type": "markdown",
   "id": "IyxoJrQpkyFf",
   "metadata": {
    "id": "IyxoJrQpkyFf"
   },
   "source": [
    "### Gameplay"
   ]
  },
  {
   "cell_type": "code",
   "execution_count": 20,
   "id": "S4ux4eNEkzmn",
   "metadata": {
    "id": "S4ux4eNEkzmn"
   },
   "outputs": [],
   "source": [
    "board = Board() # Starting Board for Game"
   ]
  },
  {
   "cell_type": "code",
   "execution_count": 218,
   "id": "jMs7Y-ltlexr",
   "metadata": {
    "id": "jMs7Y-ltlexr"
   },
   "outputs": [
    {
     "name": "stdout",
     "output_type": "stream",
     "text": [
      "Board before prediction:\n",
      ". . . . n . k .\n",
      ". p . P . . r .\n",
      ". P . . . p . .\n",
      "p . . . . K . .\n",
      ". . . . . b . .\n",
      ". . . . . . . .\n",
      ". . . . . . . p\n",
      ". . . . . . . .\n",
      "\u001b[1m1/1\u001b[0m \u001b[32m━━━━━━━━━━━━━━━━━━━━\u001b[0m\u001b[37m\u001b[0m \u001b[1m0s\u001b[0m 42ms/step\n",
      "\n",
      "Predicted move: f5e6\n",
      "Board after prediction:\n",
      ". . . . n . k .\n",
      ". p . P . . r .\n",
      ". P . . K p . .\n",
      "p . . . . . . .\n",
      ". . . . . b . .\n",
      ". . . . . . . .\n",
      ". . . . . . . p\n",
      ". . . . . . . .\n"
     ]
    }
   ],
   "source": [
    "print(\"Board before prediction:\")\n",
    "print(board)\n",
    "\n",
    "# Predict and make the move\n",
    "next_move = predict_next_move(board)\n",
    "board.push_uci(next_move)\n",
    "\n",
    "# Display the board after prediction\n",
    "print(\"\\nPredicted move:\", next_move)\n",
    "print(\"Board after prediction:\")\n",
    "print(board)"
   ]
  },
  {
   "cell_type": "code",
   "execution_count": 219,
   "id": "ksnlLQkalrOt",
   "metadata": {
    "id": "ksnlLQkalrOt"
   },
   "outputs": [
    {
     "name": "stdout",
     "output_type": "stream",
     "text": [
      "[Event \"?\"]\n",
      "[Site \"?\"]\n",
      "[Date \"????.??.??\"]\n",
      "[Round \"?\"]\n",
      "[White \"?\"]\n",
      "[Black \"?\"]\n",
      "[Result \"1/2-1/2\"]\n",
      "\n",
      "1. e4 c5 2. Nf3 d6 3. d4 cxd4 4. Nxd4 Nf6 5. Nc3 g6 6. Be3 Bg7 7. f3 O-O 8. Qd2 Nc6 9. Bc4 Bd7 10. O-O-O Rc8 11. h4 Ne5 12. h5 Nxc4 13. g4 Qa5 14. hxg6 fxg6 15. Kb1 Rc7 16. g5 d5 17. e5 Ne8 18. Rhe1 h5 19. e6 Nb6 20. Qd3 Bxd4 21. Bd2 Ba4 22. Nb5 Nd7 23. Bb4 Nc5 24. Qf5 Nxe6 25. Re5 Bxe5 26. a3 Qxb4 27. f4 Qc5 28. c3 Qd6 29. Qf6 Qd7 30. f5 Rc6 31. fxg6 Bxb5 32. c4 a6 33. cxd5 Rc5 34. Rd2 Rxf6 35. b3 Rc8 36. Ka2 h4 37. Rd3 Qd6 38. Rd4 Rc3 39. b4 Rcf3 40. g7 Re3 41. Kb2 Nxd4 42. gxf6 Nb3+ 43. Kb1 exf6 44. a4 h3 45. a5 Re4 46. Kc2 Qe7 47. Kxb3 Bh2 48. d6 Qd8 49. d7 Re5 50. Kc3 Ba4 51. Kc4 Re1 52. b5 Kxg7 53. b6 Bg3 54. Kb4 Bf4 55. Kxa4 Re7 56. Ka3 h2 57. Ka4 Kg8 58. Kb3 Rg7 59. Kb4 Kh7 60. Kc5 Kg8 61. Kc4 Qxb6 62. axb6 Kh7 63. Kc5 Kg8 64. Kd5 Kh7 65. Ke6 a5 66. Kf5 Kg8 67. Ke6 Kh7 68. Kf5 Kg8 69. Ke6 Kh7 70. Kf5 Kg8 71. Ke6 Kh7 72. Kf5 Kg8 73. Ke6 Kh7 74. Kf5 Kg8 75. Ke6 Kh7 76. Kf5 Kg8 77. Ke6 Kh7 78. Kf5 Kg8 79. Ke6 Kh7 80. Kf5 Kg8 81. Ke6 Kh7 82. Kf5 Kg8 83. Ke6 Kh7 84. Kf5 Kg8 85. Ke6 Kh7 86. Kf5 Kg8 87. Ke6 Kh7 88. Kf5 Kg8 89. Ke6 Kh7 90. Kf5 Kg8 91. Ke6 Kh7 92. Kf5 Kg8 93. Ke6 Kh7 94. Kf5 Kg8 95. Ke6 Kh7 96. Kf5 Kg8 97. Ke6 Kh7 98. Kf5 Kg8 99. Ke6 1/2-1/2\n"
     ]
    }
   ],
   "source": [
    "# PGN Showcase\n",
    "print(str(pgn.Game.from_board(board)))"
   ]
  },
  {
   "cell_type": "code",
   "execution_count": null,
   "id": "b7f21e8a",
   "metadata": {},
   "outputs": [],
   "source": []
  }
 ],
 "metadata": {
  "colab": {
   "provenance": []
  },
  "kernelspec": {
   "display_name": "Python 3",
   "language": "python",
   "name": "python3"
  },
  "language_info": {
   "codemirror_mode": {
    "name": "ipython",
    "version": 3
   },
   "file_extension": ".py",
   "mimetype": "text/x-python",
   "name": "python",
   "nbconvert_exporter": "python",
   "pygments_lexer": "ipython3",
   "version": "3.13.3"
  }
 },
 "nbformat": 4,
 "nbformat_minor": 5
}
